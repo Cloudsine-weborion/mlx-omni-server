{
 "cells": [
  {
   "attachments": {},
   "cell_type": "markdown",
   "id": "32b169b3",
   "metadata": {},
   "source": [
    "# Anthropic Message Examples"
   ]
  },
  {
   "cell_type": "code",
   "execution_count": 10,
   "id": "db5819fb",
   "metadata": {
    "jupyter": {
     "is_executing": true
    }
   },
   "outputs": [],
   "source": [
    "import anthropic\n",
    "\n",
    "client = anthropic.Anthropic(\n",
    "    base_url=\"http://localhost:10240/anthropic\",  # Point to local server\n",
    "    api_key=\"not-needed\",  # API key is not required for local server\n",
    ")\n"
   ]
  },
  {
   "attachments": {},
   "cell_type": "markdown",
   "id": "e3bafa8f",
   "metadata": {},
   "source": [
    "## anthropic/v1/models\n",
    "\n",
    "https://docs.anthropic.com/en/api/models-list"
   ]
  },
  {
   "attachments": {},
   "cell_type": "markdown",
   "id": "d1349a27",
   "metadata": {},
   "source": [
    "You can directly test using the curl method, as follows:\n",
    "\n",
    "```shell\n",
    "curl http://localhost:10240/anthropic/v1/models \\\n",
    "     --header \"x-api-key: $ANTHROPIC_API_KEY\" \\\n",
    "     --header \"anthropic-version: 2023-06-01\"\n",
    "\n",
    "```\n",
    "\n",
    "You can also use OpenAI's Python SDK in the project for access, which can basically be done without feeling. As follows:"
   ]
  },
  {
   "cell_type": "code",
   "execution_count": 11,
   "id": "280fe5e6-0c7f-4554-93a9-0d30cce21f2b",
   "metadata": {},
   "outputs": [
    {
     "data": {
      "text/plain": [
       "ModelInfo(id='mlx-community/Qwen3-0.6B-4bit-DWQ', created_at=datetime.datetime(2025, 6, 13, 7, 6, 35, tzinfo=datetime.timezone.utc), display_name='mlx-community/Qwen3-0.6B-4bit-DWQ', type='model')"
      ]
     },
     "execution_count": 11,
     "metadata": {},
     "output_type": "execute_result"
    }
   ],
   "source": [
    "response = client.models.list(limit=20)\n",
    "\n",
    "response.data[0]\n",
    "\n",
    "# print(completion.choices[0].message)"
   ]
  },
  {
   "cell_type": "code",
   "execution_count": 12,
   "id": "539ec72e-a2ae-4abb-a485-6bbd8063bdbd",
   "metadata": {},
   "outputs": [
    {
     "data": {
      "text/plain": [
       "SyncPage[ModelInfo](data=[ModelInfo(id='mlx-community/Qwen3-0.6B-4bit-DWQ', created_at=datetime.datetime(2025, 6, 13, 7, 6, 35, tzinfo=datetime.timezone.utc), display_name='mlx-community/Qwen3-0.6B-4bit-DWQ', type='model'), ModelInfo(id='mlx-community/gemma-3-27b-it-4bit-DWQ', created_at=datetime.datetime(2025, 5, 30, 14, 20, 46, tzinfo=datetime.timezone.utc), display_name='mlx-community/gemma-3-27b-it-4bit-DWQ', type='model'), ModelInfo(id='mlx-community/Llama-3.2-3B-Instruct-4bit', created_at=datetime.datetime(2025, 5, 30, 13, 54, 33, tzinfo=datetime.timezone.utc), display_name='mlx-community/Llama-3.2-3B-Instruct-4bit', type='model'), ModelInfo(id='mlx-community/DeepSeek-R1-0528-Qwen3-8B-4bit-DWQ', created_at=datetime.datetime(2025, 5, 29, 16, 44, 44, tzinfo=datetime.timezone.utc), display_name='mlx-community/DeepSeek-R1-0528-Qwen3-8B-4bit-DWQ', type='model'), ModelInfo(id='deepseek-ai/DeepSeek-R1-0528-Qwen3-8B', created_at=datetime.datetime(2025, 5, 29, 14, 56, 42, tzinfo=datetime.timezone.utc), display_name='deepseek-ai/DeepSeek-R1-0528-Qwen3-8B', type='model'), ModelInfo(id='mlx-community/DeepSeek-R1-Distill-Qwen-1.5B-4bit', created_at=datetime.datetime(2025, 5, 27, 15, 39, 18, tzinfo=datetime.timezone.utc), display_name='mlx-community/DeepSeek-R1-Distill-Qwen-1.5B-4bit', type='model'), ModelInfo(id='deepseek-ai/DeepSeek-R1-Distill-Qwen-1.5B', created_at=datetime.datetime(2025, 5, 27, 4, 16, 23, tzinfo=datetime.timezone.utc), display_name='deepseek-ai/DeepSeek-R1-Distill-Qwen-1.5B', type='model'), ModelInfo(id='mlx-community/Qwen3-235B-A22B-3bit-DWQ', created_at=datetime.datetime(2025, 5, 16, 4, 57, 45, tzinfo=datetime.timezone.utc), display_name='mlx-community/Qwen3-235B-A22B-3bit-DWQ', type='model'), ModelInfo(id='mlx-community/Qwen3-1.7B-4bit-DWQ', created_at=datetime.datetime(2025, 5, 15, 2, 2, 45, tzinfo=datetime.timezone.utc), display_name='mlx-community/Qwen3-1.7B-4bit-DWQ', type='model'), ModelInfo(id='mlx-community/gemma-3-1b-it-4bit-DWQ', created_at=datetime.datetime(2025, 5, 15, 1, 54, 21, tzinfo=datetime.timezone.utc), display_name='mlx-community/gemma-3-1b-it-4bit-DWQ', type='model'), ModelInfo(id='mlx-community/Mistral-Small-3.1-24B-Instruct-2503-4bit', created_at=datetime.datetime(2025, 5, 12, 9, 7, 24, tzinfo=datetime.timezone.utc), display_name='mlx-community/Mistral-Small-3.1-24B-Instruct-2503-4bit', type='model'), ModelInfo(id='mlx-community/Qwen3-32B-4bit', created_at=datetime.datetime(2025, 5, 10, 18, 9, 28, tzinfo=datetime.timezone.utc), display_name='mlx-community/Qwen3-32B-4bit', type='model'), ModelInfo(id='mlx-community/Qwen3-30B-A3B-4bit', created_at=datetime.datetime(2025, 5, 10, 18, 8, 59, tzinfo=datetime.timezone.utc), display_name='mlx-community/Qwen3-30B-A3B-4bit', type='model'), ModelInfo(id='mlx-community/Qwen3-0.6B-4bit', created_at=datetime.datetime(2025, 5, 10, 18, 1, 33, tzinfo=datetime.timezone.utc), display_name='mlx-community/Qwen3-0.6B-4bit', type='model')], has_more=False, first_id='mlx-community/Qwen3-0.6B-4bit-DWQ', last_id='mlx-community/Qwen3-0.6B-4bit')"
      ]
     },
     "execution_count": 12,
     "metadata": {},
     "output_type": "execute_result"
    }
   ],
   "source": [
    "response"
   ]
  },
  {
   "cell_type": "markdown",
   "id": "c95a5f88",
   "metadata": {},
   "source": [
    "## anthropic/v1/messages\n",
    "\n",
    "https://docs.anthropic.com/en/api/messages"
   ]
  },
  {
   "cell_type": "code",
   "execution_count": null,
   "id": "c052609e",
   "metadata": {},
   "outputs": [],
   "source": []
  }
 ],
 "metadata": {
  "kernelspec": {
   "display_name": "Python 3",
   "language": "python",
   "name": "python3"
  },
  "language_info": {
   "codemirror_mode": {
    "name": "ipython",
    "version": 3
   },
   "file_extension": ".py",
   "mimetype": "text/x-python",
   "name": "python",
   "nbconvert_exporter": "python",
   "pygments_lexer": "ipython3",
   "version": "3.11.13"
  }
 },
 "nbformat": 4,
 "nbformat_minor": 5
}
